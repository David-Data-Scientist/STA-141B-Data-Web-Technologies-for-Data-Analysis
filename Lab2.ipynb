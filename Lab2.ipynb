{
 "cells": [
  {
   "cell_type": "markdown",
   "metadata": {},
   "source": [
    "<h1>141B Lab 2: Pythonic things</h1>\n",
    "In this lab, you will add python code to the empty cells according to the instructions.  Tests with the intended output are included so that you can check your progress."
   ]
  },
  {
   "cell_type": "markdown",
   "metadata": {},
   "source": [
    "Exercise 1. create a function that takes a character as an argument, if it is 'a' then return 'A' otherwise return the original character. f('a') = 'A' and f(x) = x for all other x. "
   ]
  },
  {
   "cell_type": "code",
   "execution_count": 1,
   "metadata": {
    "collapsed": true
   },
   "outputs": [],
   "source": [
    "def f(x):\n",
    "    if x == 'a':\n",
    "        return 'A'\n",
    "    else:\n",
    "        return x\n",
    "        "
   ]
  },
  {
   "cell_type": "markdown",
   "metadata": {},
   "source": [
    "<ul>\n",
    "<li>Using a list comprehension, apply f to each element of 'banana' and return a list of characters.</li>\n",
    "<li>Try to do the same thing with the map function.</li>\n",
    "<li>Using ''.join concatenate the characters in the list to make a string (the result should be 'bAnAnA').</li>\n",
    "</ul>"
   ]
  },
  {
   "cell_type": "code",
   "execution_count": 2,
   "metadata": {
    "collapsed": false
   },
   "outputs": [
    {
     "data": {
      "text/plain": [
       "['b', 'A', 'n', 'A', 'n', 'A']"
      ]
     },
     "execution_count": 2,
     "metadata": {},
     "output_type": "execute_result"
    }
   ],
   "source": [
    "[f(s) for s in 'banana']"
   ]
  },
  {
   "cell_type": "code",
   "execution_count": 3,
   "metadata": {
    "collapsed": false
   },
   "outputs": [
    {
     "data": {
      "text/plain": [
       "['b', 'A', 'n', 'A', 'n', 'A']"
      ]
     },
     "execution_count": 3,
     "metadata": {},
     "output_type": "execute_result"
    }
   ],
   "source": [
    "list(map(f, 'banana'))"
   ]
  },
  {
   "cell_type": "code",
   "execution_count": 4,
   "metadata": {
    "collapsed": false
   },
   "outputs": [
    {
     "data": {
      "text/plain": [
       "'bAnAnA'"
      ]
     },
     "execution_count": 4,
     "metadata": {},
     "output_type": "execute_result"
    }
   ],
   "source": [
    "\"\".join([f(s) for s in 'banana'])"
   ]
  },
  {
   "cell_type": "markdown",
   "metadata": {},
   "source": [
    "Exercise 2. Sum the first 100 numbers in a for loop."
   ]
  },
  {
   "cell_type": "code",
   "execution_count": 5,
   "metadata": {
    "collapsed": false
   },
   "outputs": [
    {
     "name": "stdout",
     "output_type": "stream",
     "text": [
      "5050\n"
     ]
    }
   ],
   "source": [
    "addition = 0\n",
    "for i in range(101):\n",
    "    addition += i\n",
    "print addition"
   ]
  },
  {
   "cell_type": "markdown",
   "metadata": {},
   "source": [
    "Sum the first 100 numbers, but using a generator expression."
   ]
  },
  {
   "cell_type": "code",
   "execution_count": 34,
   "metadata": {
    "collapsed": false
   },
   "outputs": [
    {
     "name": "stdout",
     "output_type": "stream",
     "text": [
      "5050\n"
     ]
    }
   ],
   "source": [
    "addition2 = 0\n",
    "for i in xrange(101):\n",
    "    addition2 += i\n",
    "print addition2"
   ]
  },
  {
   "cell_type": "markdown",
   "metadata": {},
   "source": [
    "Using a generator expression sum the square of the first 100 numbers."
   ]
  },
  {
   "cell_type": "code",
   "execution_count": 6,
   "metadata": {
    "collapsed": false
   },
   "outputs": [
    {
     "data": {
      "text/plain": [
       "338350"
      ]
     },
     "execution_count": 6,
     "metadata": {},
     "output_type": "execute_result"
    }
   ],
   "source": [
    "sum(s**2 for s in xrange(101))"
   ]
  },
  {
   "cell_type": "markdown",
   "metadata": {},
   "source": [
    "Exercise 3. Let's create the Fibonacci sequence.  Start a list $Fib$ of where the first elements are 1,1, and follow the relation that\n",
    "$$Fib[i] = Fib[i-1] + Fib[i-2]$$\n",
    "Generate the Fibonacci numbers less than 1000 and store it in a list."
   ]
  },
  {
   "cell_type": "code",
   "execution_count": 10,
   "metadata": {
    "collapsed": false
   },
   "outputs": [],
   "source": [
    "Fib = [1, 1]\n",
    "while Fib[-2] + Fib[-1] < 1000:\n",
    "    Fib.append(Fib[-2] + Fib[-1])    "
   ]
  },
  {
   "cell_type": "code",
   "execution_count": 11,
   "metadata": {
    "collapsed": false,
    "scrolled": true
   },
   "outputs": [
    {
     "name": "stdout",
     "output_type": "stream",
     "text": [
      "[1, 1, 2, 3, 5, 8, 13, 21, 34, 55, 89, 144, 233, 377, 610, 987]\n"
     ]
    }
   ],
   "source": [
    "print Fib"
   ]
  },
  {
   "cell_type": "markdown",
   "metadata": {},
   "source": [
    "Exercise 4. Create a function called addone that does the following depending on the type of the input.  \n",
    "<ul>\n",
    "<li>Integer: add 1</li>\n",
    "<li>Float: add 1.0</li>\n",
    "<li>String: take the last character and increment the character to the next character in alphabetical order using ord and chr.</li>\n",
    "</ul>"
   ]
  },
  {
   "cell_type": "code",
   "execution_count": 15,
   "metadata": {
    "collapsed": false
   },
   "outputs": [],
   "source": [
    "def addone(x):\n",
    "    if type(x) == int:\n",
    "        x += 1\n",
    "    if type(x) == float:\n",
    "        x += 1.0\n",
    "    if type(x) == str:\n",
    "        x += chr(ord(x[-1]) +1)\n",
    "    return x"
   ]
  },
  {
   "cell_type": "code",
   "execution_count": 16,
   "metadata": {
    "collapsed": false
   },
   "outputs": [
    {
     "name": "stdout",
     "output_type": "stream",
     "text": [
      "bonfiref 2 4.2\n"
     ]
    }
   ],
   "source": [
    "print addone('bonfire'), addone(1), addone(3.2)"
   ]
  },
  {
   "cell_type": "markdown",
   "metadata": {},
   "source": [
    "Exercise 5. Create a function called commarem that removes all commas from a string.  Try to make it so that it will run faster if there is no comma in it.  Below is a timing of these two different inputs."
   ]
  },
  {
   "cell_type": "code",
   "execution_count": 26,
   "metadata": {
    "collapsed": false
   },
   "outputs": [],
   "source": [
    "import string\n",
    "def commarem(x):\n",
    "    if \",\" in x:\n",
    "        x = string.replace(x, \",\", \"\")\n",
    "    return x"
   ]
  },
  {
   "cell_type": "code",
   "execution_count": 27,
   "metadata": {
    "collapsed": false
   },
   "outputs": [
    {
     "name": "stdout",
     "output_type": "stream",
     "text": [
      "The slowest run took 9.80 times longer than the fastest. This could mean that an intermediate result is being cached.\n",
      "10000000 loops, best of 3: 131 ns per loop\n"
     ]
    }
   ],
   "source": [
    "%timeit commarem('1300')"
   ]
  },
  {
   "cell_type": "code",
   "execution_count": 28,
   "metadata": {
    "collapsed": false
   },
   "outputs": [
    {
     "name": "stdout",
     "output_type": "stream",
     "text": [
      "The slowest run took 7.24 times longer than the fastest. This could mean that an intermediate result is being cached.\n",
      "1000000 loops, best of 3: 591 ns per loop\n"
     ]
    }
   ],
   "source": [
    "%timeit commarem('1,300')"
   ]
  },
  {
   "cell_type": "markdown",
   "metadata": {},
   "source": [
    "Exercise 6. Create a set of the 5 lower case vowels and the set of 21 lower case consonants by removing the set of vowels from the alphabet."
   ]
  },
  {
   "cell_type": "code",
   "execution_count": 30,
   "metadata": {
    "collapsed": false
   },
   "outputs": [
    {
     "name": "stdout",
     "output_type": "stream",
     "text": [
      "['b', 'c', 'd', 'f', 'g', 'h', 'j', 'k', 'l', 'm', 'n', 'p', 'q', 'r', 's', 't', 'v', 'w', 'x', 'y', 'z']\n"
     ]
    }
   ],
   "source": [
    "alphabet = list(string.ascii_lowercase)\n",
    "vowels = [\"a\", \"e\", \"i\", \"o\", \"u\"]\n",
    "consonants = filter(lambda x: x not in vowels, alphabet)\n",
    "print consonants"
   ]
  },
  {
   "cell_type": "markdown",
   "metadata": {},
   "source": [
    "Create a function called newletters that takes a string, s, and returns a list of strings formed by appending a new character to s, with the provision that that character must be a vowel if the last letter of s is a consonant and must be a consonant if the last letter of s is a vowel."
   ]
  },
  {
   "cell_type": "code",
   "execution_count": 31,
   "metadata": {
    "collapsed": true
   },
   "outputs": [],
   "source": [
    "def newletters(s):\n",
    "    if s[-1] in vowels:\n",
    "        letters = [s + t for t in consonants]\n",
    "    else:\n",
    "        letters = [s + t for t in vowels]\n",
    "    return letters"
   ]
  },
  {
   "cell_type": "code",
   "execution_count": 32,
   "metadata": {
    "collapsed": false
   },
   "outputs": [
    {
     "data": {
      "text/plain": [
       "['banana', 'banane', 'banani', 'banano', 'bananu']"
      ]
     },
     "execution_count": 32,
     "metadata": {},
     "output_type": "execute_result"
    }
   ],
   "source": [
    "newletters('banan')"
   ]
  },
  {
   "cell_type": "code",
   "execution_count": 36,
   "metadata": {
    "collapsed": false
   },
   "outputs": [
    {
     "data": {
      "text/plain": [
       "[['hamburgeb',\n",
       "  'hamburgec',\n",
       "  'hamburged',\n",
       "  'hamburgef',\n",
       "  'hamburgeg',\n",
       "  'hamburgeh',\n",
       "  'hamburgej',\n",
       "  'hamburgek',\n",
       "  'hamburgel',\n",
       "  'hamburgem',\n",
       "  'hamburgen',\n",
       "  'hamburgep',\n",
       "  'hamburgeq',\n",
       "  'hamburger',\n",
       "  'hamburges',\n",
       "  'hamburget',\n",
       "  'hamburgev',\n",
       "  'hamburgew',\n",
       "  'hamburgex',\n",
       "  'hamburgey',\n",
       "  'hamburgez'],\n",
       " ['chickeb',\n",
       "  'chickec',\n",
       "  'chicked',\n",
       "  'chickef',\n",
       "  'chickeg',\n",
       "  'chickeh',\n",
       "  'chickej',\n",
       "  'chickek',\n",
       "  'chickel',\n",
       "  'chickem',\n",
       "  'chicken',\n",
       "  'chickep',\n",
       "  'chickeq',\n",
       "  'chicker',\n",
       "  'chickes',\n",
       "  'chicket',\n",
       "  'chickev',\n",
       "  'chickew',\n",
       "  'chickex',\n",
       "  'chickey',\n",
       "  'chickez'],\n",
       " ['hotdoga', 'hotdoge', 'hotdogi', 'hotdogo', 'hotdogu'],\n",
       " ['rubarba', 'rubarbe', 'rubarbi', 'rubarbo', 'rubarbu'],\n",
       " ['tahinib',\n",
       "  'tahinic',\n",
       "  'tahinid',\n",
       "  'tahinif',\n",
       "  'tahinig',\n",
       "  'tahinih',\n",
       "  'tahinij',\n",
       "  'tahinik',\n",
       "  'tahinil',\n",
       "  'tahinim',\n",
       "  'tahinin',\n",
       "  'tahinip',\n",
       "  'tahiniq',\n",
       "  'tahinir',\n",
       "  'tahinis',\n",
       "  'tahinit',\n",
       "  'tahiniv',\n",
       "  'tahiniw',\n",
       "  'tahinix',\n",
       "  'tahiniy',\n",
       "  'tahiniz']]"
      ]
     },
     "execution_count": 36,
     "metadata": {},
     "output_type": "execute_result"
    }
   ],
   "source": [
    "words = ['hamburge','chicke','hotdog','rubarb','tahini']\n",
    "[newletters(s) for s in words]"
   ]
  },
  {
   "cell_type": "markdown",
   "metadata": {},
   "source": [
    "For the words list above, using a generator expression, create a dictionary with the keys being the elements of words and the items being newletters applied to the key."
   ]
  },
  {
   "cell_type": "code",
   "execution_count": 41,
   "metadata": {
    "collapsed": false
   },
   "outputs": [],
   "source": [
    "newwords = {s:newletters(s) for s in words}"
   ]
  },
  {
   "cell_type": "code",
   "execution_count": 42,
   "metadata": {
    "collapsed": false
   },
   "outputs": [
    {
     "data": {
      "text/plain": [
       "['hotdoga', 'hotdoge', 'hotdogi', 'hotdogo', 'hotdogu']"
      ]
     },
     "execution_count": 42,
     "metadata": {},
     "output_type": "execute_result"
    }
   ],
   "source": [
    "newwords['hotdog']"
   ]
  }
 ],
 "metadata": {
  "anaconda-cloud": {},
  "kernelspec": {
   "display_name": "Python [default]",
   "language": "python",
   "name": "python2"
  },
  "language_info": {
   "codemirror_mode": {
    "name": "ipython",
    "version": 2
   },
   "file_extension": ".py",
   "mimetype": "text/x-python",
   "name": "python",
   "nbconvert_exporter": "python",
   "pygments_lexer": "ipython2",
   "version": "2.7.12"
  }
 },
 "nbformat": 4,
 "nbformat_minor": 1
}
